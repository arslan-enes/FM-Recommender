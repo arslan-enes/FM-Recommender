{
 "cells": [
  {
   "cell_type": "code",
   "execution_count": 10,
   "outputs": [],
   "source": [
    "import pandas as pd"
   ],
   "metadata": {
    "collapsed": false,
    "pycharm": {
     "name": "#%%\n"
    }
   }
  },
  {
   "cell_type": "code",
   "execution_count": 11,
   "outputs": [],
   "source": [
    "fm = pd.read_csv('data/fm_final.csv', index_col=0, low_memory=False)"
   ],
   "metadata": {
    "collapsed": false,
    "pycharm": {
     "name": "#%%\n"
    }
   }
  },
  {
   "cell_type": "code",
   "execution_count": 12,
   "outputs": [
    {
     "data": {
      "text/plain": "                                        Name                          DoB  \\\nUID                                                                         \n7458500.0    Lionel Messi                      24/6/1987 (34 years old)     \n85139014.0   Kylian Mbappé                     20/12/1998 (22 years old)    \n19024412.0   Neymar                            5/2/1992 (29 years old)      \n7458272.0    Sergio Ramos                      30/3/1986 (35 years old)     \n67228634.0   Achraf Hakimi                     4/11/1998 (22 years old)     \n\n              Nat                                              Based  \\\nUID                                                                    \n7458500.0    ARG    France (Ligue 1)                             ...   \n85139014.0   FRA    France (Ligue 1)                             ...   \n19024412.0   BRA    France (Ligue 1)                             ...   \n7458272.0    ESP    France (Ligue 1)                             ...   \n67228634.0   MAR    France (Ligue 1)                             ...   \n\n                                                     Division Club  \\\nUID                                                                  \n7458500.0    Ligue 1 Uber Eats                            ...  PSG   \n85139014.0   Ligue 1 Uber Eats                            ...  PSG   \n19024412.0   Ligue 1 Uber Eats                            ...  PSG   \n7458272.0    Ligue 1 Uber Eats                            ...  PSG   \n67228634.0   Ligue 1 Uber Eats                            ...  PSG   \n\n                                        Position    Preferred Foot  \\\nUID                                                                  \n7458500.0    AM (RC), ST (C)                       Left              \n85139014.0   AM (RL), ST (C)                       Right             \n19024412.0   M (L), AM (LC), ST (C)                Right             \n7458272.0    D (C)                                 Right             \n67228634.0   D/WB/M (R)                            Right             \n\n                 Right Foot        Left Foot  ... Youth    Marking Style  \\\nUID                                           ...                          \n7458500.0    Fairly Strong    Very Strong     ...  19.0   Mixed            \n85139014.0   Very Strong      Reasonable      ...  19.0   Mixed            \n19024412.0   Very Strong      Fairly Strong   ...  19.0   Mixed            \n7458272.0    Very Strong      Fairly Strong   ...  19.0   Mixed            \n67228634.0   Very Strong      Reasonable      ...  19.0   Mixed            \n\n              Preferred Attacking Formation    Preferred Defensive Formation  \\\nUID                                                                            \n7458500.0    4-4-2 Diamond Narrow             5-4-1 Diamond WB                 \n85139014.0   4-4-2 Diamond Narrow             5-4-1 Diamond WB                 \n19024412.0   4-4-2 Diamond Narrow             5-4-1 Diamond WB                 \n7458272.0    4-4-2 Diamond Narrow             5-4-1 Diamond WB                 \n67228634.0   4-4-2 Diamond Narrow             5-4-1 Diamond WB                 \n\n              Second Preferred Formation    Pressing Style    Playing Style  \\\nUID                                                                           \n7458500.0    4-2-3-1 Wide                  More Often        Standard         \n85139014.0   4-2-3-1 Wide                  More Often        Standard         \n19024412.0   4-2-3-1 Wide                  More Often        Standard         \n7458272.0    4-2-3-1 Wide                  More Often        Standard         \n67228634.0   4-2-3-1 Wide                  More Often        Standard         \n\n                     Tactical Style    Playing Mentality  \\\nUID                                                        \n7458500.0    Gegenpress               Attacking            \n85139014.0   Gegenpress               Attacking            \n19024412.0   Gegenpress               Attacking            \n7458272.0    Gegenpress               Attacking            \n67228634.0   Gegenpress               Attacking            \n\n               Preferred Formation  \nUID                                 \n7458500.0    4-3-3 DM Wide          \n85139014.0   4-3-3 DM Wide          \n19024412.0   4-3-3 DM Wide          \n7458272.0    4-3-3 DM Wide          \n67228634.0   4-3-3 DM Wide          \n\n[5 rows x 230 columns]",
      "text/html": "<div>\n<style scoped>\n    .dataframe tbody tr th:only-of-type {\n        vertical-align: middle;\n    }\n\n    .dataframe tbody tr th {\n        vertical-align: top;\n    }\n\n    .dataframe thead th {\n        text-align: right;\n    }\n</style>\n<table border=\"1\" class=\"dataframe\">\n  <thead>\n    <tr style=\"text-align: right;\">\n      <th></th>\n      <th>Name</th>\n      <th>DoB</th>\n      <th>Nat</th>\n      <th>Based</th>\n      <th>Division</th>\n      <th>Club</th>\n      <th>Position</th>\n      <th>Preferred Foot</th>\n      <th>Right Foot</th>\n      <th>Left Foot</th>\n      <th>...</th>\n      <th>Youth</th>\n      <th>Marking Style</th>\n      <th>Preferred Attacking Formation</th>\n      <th>Preferred Defensive Formation</th>\n      <th>Second Preferred Formation</th>\n      <th>Pressing Style</th>\n      <th>Playing Style</th>\n      <th>Tactical Style</th>\n      <th>Playing Mentality</th>\n      <th>Preferred Formation</th>\n    </tr>\n    <tr>\n      <th>UID</th>\n      <th></th>\n      <th></th>\n      <th></th>\n      <th></th>\n      <th></th>\n      <th></th>\n      <th></th>\n      <th></th>\n      <th></th>\n      <th></th>\n      <th></th>\n      <th></th>\n      <th></th>\n      <th></th>\n      <th></th>\n      <th></th>\n      <th></th>\n      <th></th>\n      <th></th>\n      <th></th>\n      <th></th>\n    </tr>\n  </thead>\n  <tbody>\n    <tr>\n      <th>7458500.0</th>\n      <td>Lionel Messi</td>\n      <td>24/6/1987 (34 years old)</td>\n      <td>ARG</td>\n      <td>France (Ligue 1)                             ...</td>\n      <td>Ligue 1 Uber Eats                            ...</td>\n      <td>PSG</td>\n      <td>AM (RC), ST (C)</td>\n      <td>Left</td>\n      <td>Fairly Strong</td>\n      <td>Very Strong</td>\n      <td>...</td>\n      <td>19.0</td>\n      <td>Mixed</td>\n      <td>4-4-2 Diamond Narrow</td>\n      <td>5-4-1 Diamond WB</td>\n      <td>4-2-3-1 Wide</td>\n      <td>More Often</td>\n      <td>Standard</td>\n      <td>Gegenpress</td>\n      <td>Attacking</td>\n      <td>4-3-3 DM Wide</td>\n    </tr>\n    <tr>\n      <th>85139014.0</th>\n      <td>Kylian Mbappé</td>\n      <td>20/12/1998 (22 years old)</td>\n      <td>FRA</td>\n      <td>France (Ligue 1)                             ...</td>\n      <td>Ligue 1 Uber Eats                            ...</td>\n      <td>PSG</td>\n      <td>AM (RL), ST (C)</td>\n      <td>Right</td>\n      <td>Very Strong</td>\n      <td>Reasonable</td>\n      <td>...</td>\n      <td>19.0</td>\n      <td>Mixed</td>\n      <td>4-4-2 Diamond Narrow</td>\n      <td>5-4-1 Diamond WB</td>\n      <td>4-2-3-1 Wide</td>\n      <td>More Often</td>\n      <td>Standard</td>\n      <td>Gegenpress</td>\n      <td>Attacking</td>\n      <td>4-3-3 DM Wide</td>\n    </tr>\n    <tr>\n      <th>19024412.0</th>\n      <td>Neymar</td>\n      <td>5/2/1992 (29 years old)</td>\n      <td>BRA</td>\n      <td>France (Ligue 1)                             ...</td>\n      <td>Ligue 1 Uber Eats                            ...</td>\n      <td>PSG</td>\n      <td>M (L), AM (LC), ST (C)</td>\n      <td>Right</td>\n      <td>Very Strong</td>\n      <td>Fairly Strong</td>\n      <td>...</td>\n      <td>19.0</td>\n      <td>Mixed</td>\n      <td>4-4-2 Diamond Narrow</td>\n      <td>5-4-1 Diamond WB</td>\n      <td>4-2-3-1 Wide</td>\n      <td>More Often</td>\n      <td>Standard</td>\n      <td>Gegenpress</td>\n      <td>Attacking</td>\n      <td>4-3-3 DM Wide</td>\n    </tr>\n    <tr>\n      <th>7458272.0</th>\n      <td>Sergio Ramos</td>\n      <td>30/3/1986 (35 years old)</td>\n      <td>ESP</td>\n      <td>France (Ligue 1)                             ...</td>\n      <td>Ligue 1 Uber Eats                            ...</td>\n      <td>PSG</td>\n      <td>D (C)</td>\n      <td>Right</td>\n      <td>Very Strong</td>\n      <td>Fairly Strong</td>\n      <td>...</td>\n      <td>19.0</td>\n      <td>Mixed</td>\n      <td>4-4-2 Diamond Narrow</td>\n      <td>5-4-1 Diamond WB</td>\n      <td>4-2-3-1 Wide</td>\n      <td>More Often</td>\n      <td>Standard</td>\n      <td>Gegenpress</td>\n      <td>Attacking</td>\n      <td>4-3-3 DM Wide</td>\n    </tr>\n    <tr>\n      <th>67228634.0</th>\n      <td>Achraf Hakimi</td>\n      <td>4/11/1998 (22 years old)</td>\n      <td>MAR</td>\n      <td>France (Ligue 1)                             ...</td>\n      <td>Ligue 1 Uber Eats                            ...</td>\n      <td>PSG</td>\n      <td>D/WB/M (R)</td>\n      <td>Right</td>\n      <td>Very Strong</td>\n      <td>Reasonable</td>\n      <td>...</td>\n      <td>19.0</td>\n      <td>Mixed</td>\n      <td>4-4-2 Diamond Narrow</td>\n      <td>5-4-1 Diamond WB</td>\n      <td>4-2-3-1 Wide</td>\n      <td>More Often</td>\n      <td>Standard</td>\n      <td>Gegenpress</td>\n      <td>Attacking</td>\n      <td>4-3-3 DM Wide</td>\n    </tr>\n  </tbody>\n</table>\n<p>5 rows × 230 columns</p>\n</div>"
     },
     "execution_count": 12,
     "metadata": {},
     "output_type": "execute_result"
    }
   ],
   "source": [
    "fm.head()"
   ],
   "metadata": {
    "collapsed": false,
    "pycharm": {
     "name": "#%%\n"
    }
   }
  },
  {
   "cell_type": "code",
   "execution_count": 18,
   "outputs": [
    {
     "data": {
      "text/plain": "Name                   object\nDoB                    object\nNat                    object\nBased                  object\nDivision               object\n                        ...  \nPressing Style         object\nPlaying Style          object\nTactical Style         object\nPlaying Mentality      object\nPreferred Formation    object\nLength: 230, dtype: object"
     },
     "execution_count": 18,
     "metadata": {},
     "output_type": "execute_result"
    }
   ],
   "source": [
    "fm.dtypes"
   ],
   "metadata": {
    "collapsed": false,
    "pycharm": {
     "name": "#%%\n"
    }
   }
  },
  {
   "cell_type": "code",
   "execution_count": null,
   "outputs": [],
   "source": [],
   "metadata": {
    "collapsed": false,
    "pycharm": {
     "name": "#%%\n"
    }
   }
  }
 ],
 "metadata": {
  "kernelspec": {
   "display_name": "Python 3",
   "language": "python",
   "name": "python3"
  },
  "language_info": {
   "codemirror_mode": {
    "name": "ipython",
    "version": 2
   },
   "file_extension": ".py",
   "mimetype": "text/x-python",
   "name": "python",
   "nbconvert_exporter": "python",
   "pygments_lexer": "ipython2",
   "version": "2.7.6"
  }
 },
 "nbformat": 4,
 "nbformat_minor": 0
}