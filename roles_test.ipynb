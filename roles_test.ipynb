{
 "cells": [
  {
   "cell_type": "code",
   "execution_count": 57,
   "outputs": [],
   "source": [
    "import pandas as pd\n",
    "import json"
   ],
   "metadata": {
    "collapsed": false,
    "pycharm": {
     "name": "#%%\n"
    }
   }
  },
  {
   "cell_type": "code",
   "execution_count": 58,
   "outputs": [],
   "source": [
    "from key_features import *"
   ],
   "metadata": {
    "collapsed": false,
    "pycharm": {
     "name": "#%%\n"
    }
   }
  },
  {
   "cell_type": "code",
   "execution_count": 59,
   "outputs": [],
   "source": [
    "fm = pd.read_csv('data/fm_04092022.csv')"
   ],
   "metadata": {
    "collapsed": false,
    "pycharm": {
     "name": "#%%\n"
    }
   }
  },
  {
   "cell_type": "code",
   "execution_count": 60,
   "outputs": [
    {
     "data": {
      "text/plain": "        UID               Name  Nat                     Based  \\\n0   7458500       Lionel Messi  ARG          France (Ligue 1)   \n1  18004457    Kevin De Bruyne  BEL  England (Premier League)   \n2    735216  Cristiano Ronaldo  POR  England (Premier League)   \n3  85139014      Kylian Mbappé  FRA          France (Ligue 1)   \n4  98028755      Mohamed Salah  EGY  England (Premier League)   \n\n              Club         Position Preferred Foot     Right Foot  \\\n0              PSG  AM (RC), ST (C)           Left  Fairly Strong   \n1  Manchester City  M (RLC), AM (C)         Either    Very Strong   \n2          Man Utd   AM (L), ST (C)         Either    Very Strong   \n3              PSG  AM (RL), ST (C)          Right    Very Strong   \n4        Liverpool  AM (RL), ST (C)           Left           Weak   \n\n     Left Foot  Height  ... Bal_20  Kic_20 Sta_20 Agi_20 Wor_20  Bra_20  \\\n0  Very Strong  169 cm  ...     19       1     13     19      7      10   \n1       Strong  181 cm  ...     14       4     17     13     15      14   \n2       Strong  187 cm  ...     14       2     15     13     10      16   \n3   Reasonable  178 cm  ...     14       3     14     16     10      12   \n4  Very Strong  175 cm  ...     17       1     14     16     14      11   \n\n  Cmd_20 Fin_20 1v1_20  TRO_20  \n0      3     20      3       1  \n1      2     16      2       1  \n2      4     19      2       2  \n3      1     17      3       3  \n4      3     18      2       3  \n\n[5 rows x 161 columns]",
      "text/html": "<div>\n<style scoped>\n    .dataframe tbody tr th:only-of-type {\n        vertical-align: middle;\n    }\n\n    .dataframe tbody tr th {\n        vertical-align: top;\n    }\n\n    .dataframe thead th {\n        text-align: right;\n    }\n</style>\n<table border=\"1\" class=\"dataframe\">\n  <thead>\n    <tr style=\"text-align: right;\">\n      <th></th>\n      <th>UID</th>\n      <th>Name</th>\n      <th>Nat</th>\n      <th>Based</th>\n      <th>Club</th>\n      <th>Position</th>\n      <th>Preferred Foot</th>\n      <th>Right Foot</th>\n      <th>Left Foot</th>\n      <th>Height</th>\n      <th>...</th>\n      <th>Bal_20</th>\n      <th>Kic_20</th>\n      <th>Sta_20</th>\n      <th>Agi_20</th>\n      <th>Wor_20</th>\n      <th>Bra_20</th>\n      <th>Cmd_20</th>\n      <th>Fin_20</th>\n      <th>1v1_20</th>\n      <th>TRO_20</th>\n    </tr>\n  </thead>\n  <tbody>\n    <tr>\n      <th>0</th>\n      <td>7458500</td>\n      <td>Lionel Messi</td>\n      <td>ARG</td>\n      <td>France (Ligue 1)</td>\n      <td>PSG</td>\n      <td>AM (RC), ST (C)</td>\n      <td>Left</td>\n      <td>Fairly Strong</td>\n      <td>Very Strong</td>\n      <td>169 cm</td>\n      <td>...</td>\n      <td>19</td>\n      <td>1</td>\n      <td>13</td>\n      <td>19</td>\n      <td>7</td>\n      <td>10</td>\n      <td>3</td>\n      <td>20</td>\n      <td>3</td>\n      <td>1</td>\n    </tr>\n    <tr>\n      <th>1</th>\n      <td>18004457</td>\n      <td>Kevin De Bruyne</td>\n      <td>BEL</td>\n      <td>England (Premier League)</td>\n      <td>Manchester City</td>\n      <td>M (RLC), AM (C)</td>\n      <td>Either</td>\n      <td>Very Strong</td>\n      <td>Strong</td>\n      <td>181 cm</td>\n      <td>...</td>\n      <td>14</td>\n      <td>4</td>\n      <td>17</td>\n      <td>13</td>\n      <td>15</td>\n      <td>14</td>\n      <td>2</td>\n      <td>16</td>\n      <td>2</td>\n      <td>1</td>\n    </tr>\n    <tr>\n      <th>2</th>\n      <td>735216</td>\n      <td>Cristiano Ronaldo</td>\n      <td>POR</td>\n      <td>England (Premier League)</td>\n      <td>Man Utd</td>\n      <td>AM (L), ST (C)</td>\n      <td>Either</td>\n      <td>Very Strong</td>\n      <td>Strong</td>\n      <td>187 cm</td>\n      <td>...</td>\n      <td>14</td>\n      <td>2</td>\n      <td>15</td>\n      <td>13</td>\n      <td>10</td>\n      <td>16</td>\n      <td>4</td>\n      <td>19</td>\n      <td>2</td>\n      <td>2</td>\n    </tr>\n    <tr>\n      <th>3</th>\n      <td>85139014</td>\n      <td>Kylian Mbappé</td>\n      <td>FRA</td>\n      <td>France (Ligue 1)</td>\n      <td>PSG</td>\n      <td>AM (RL), ST (C)</td>\n      <td>Right</td>\n      <td>Very Strong</td>\n      <td>Reasonable</td>\n      <td>178 cm</td>\n      <td>...</td>\n      <td>14</td>\n      <td>3</td>\n      <td>14</td>\n      <td>16</td>\n      <td>10</td>\n      <td>12</td>\n      <td>1</td>\n      <td>17</td>\n      <td>3</td>\n      <td>3</td>\n    </tr>\n    <tr>\n      <th>4</th>\n      <td>98028755</td>\n      <td>Mohamed Salah</td>\n      <td>EGY</td>\n      <td>England (Premier League)</td>\n      <td>Liverpool</td>\n      <td>AM (RL), ST (C)</td>\n      <td>Left</td>\n      <td>Weak</td>\n      <td>Very Strong</td>\n      <td>175 cm</td>\n      <td>...</td>\n      <td>17</td>\n      <td>1</td>\n      <td>14</td>\n      <td>16</td>\n      <td>14</td>\n      <td>11</td>\n      <td>3</td>\n      <td>18</td>\n      <td>2</td>\n      <td>3</td>\n    </tr>\n  </tbody>\n</table>\n<p>5 rows × 161 columns</p>\n</div>"
     },
     "execution_count": 60,
     "metadata": {},
     "output_type": "execute_result"
    }
   ],
   "source": [
    "fm.head()"
   ],
   "metadata": {
    "collapsed": false,
    "pycharm": {
     "name": "#%%\n"
    }
   }
  },
  {
   "cell_type": "code",
   "execution_count": 61,
   "outputs": [
    {
     "ename": "KeyError",
     "evalue": "0",
     "output_type": "error",
     "traceback": [
      "\u001B[1;31m---------------------------------------------------------------------------\u001B[0m",
      "\u001B[1;31mKeyError\u001B[0m                                  Traceback (most recent call last)",
      "\u001B[1;32m<ipython-input-61-34f1177a710b>\u001B[0m in \u001B[0;36m<module>\u001B[1;34m\u001B[0m\n\u001B[1;32m----> 1\u001B[1;33m \u001B[1;33m{\u001B[0m\u001B[1;34m'key'\u001B[0m\u001B[1;33m:\u001B[0m \u001B[0mGK\u001B[0m\u001B[1;33m[\u001B[0m\u001B[1;34m'Sweeper Keeper (Defend)'\u001B[0m\u001B[1;33m]\u001B[0m\u001B[1;33m[\u001B[0m\u001B[1;36m0\u001B[0m\u001B[1;33m]\u001B[0m\u001B[1;33m,\u001B[0m \u001B[1;34m'preferred'\u001B[0m\u001B[1;33m:\u001B[0m \u001B[0mGK\u001B[0m\u001B[1;33m[\u001B[0m\u001B[1;34m'Sweeper Keeper (Defend)'\u001B[0m\u001B[1;33m]\u001B[0m\u001B[1;33m[\u001B[0m\u001B[1;36m1\u001B[0m\u001B[1;33m]\u001B[0m\u001B[1;33m}\u001B[0m\u001B[1;33m\u001B[0m\u001B[1;33m\u001B[0m\u001B[0m\n\u001B[0m",
      "\u001B[1;31mKeyError\u001B[0m: 0"
     ]
    }
   ],
   "source": [
    "{'key': GK['Sweeper Keeper (Defend)'][0], 'preferred': GK['Sweeper Keeper (Defend)'][1]}"
   ],
   "metadata": {
    "collapsed": false,
    "pycharm": {
     "name": "#%%\n"
    }
   }
  },
  {
   "cell_type": "code",
   "execution_count": null,
   "outputs": [],
   "source": [
    "for key, value in GK.items():\n",
    "    GK[key] = {'key': value[0], 'preferred':value[1]}"
   ],
   "metadata": {
    "collapsed": false,
    "pycharm": {
     "name": "#%%\n"
    }
   }
  },
  {
   "cell_type": "code",
   "execution_count": null,
   "outputs": [],
   "source": [
    "for key, value in DEF.items():\n",
    "    DEF[key] = {'key': value[0], 'preferred':value[1]}"
   ],
   "metadata": {
    "collapsed": false,
    "pycharm": {
     "name": "#%%\n"
    }
   }
  },
  {
   "cell_type": "code",
   "execution_count": null,
   "outputs": [],
   "source": [
    "for key, value in MID.items():\n",
    "    MID[key] = {'key': value[0], 'preferred':value[1]}"
   ],
   "metadata": {
    "collapsed": false,
    "pycharm": {
     "name": "#%%\n"
    }
   }
  },
  {
   "cell_type": "code",
   "execution_count": null,
   "outputs": [],
   "source": [
    "for key, value in FW.items():\n",
    "    FW[key] = {'key': value[0], 'preferred':value[1]}"
   ],
   "metadata": {
    "collapsed": false,
    "pycharm": {
     "name": "#%%\n"
    }
   }
  },
  {
   "cell_type": "code",
   "execution_count": null,
   "outputs": [],
   "source": [
    "positions = {'GK': GK, 'DEF': DEF, 'MID': MID, 'FW': FW}"
   ],
   "metadata": {
    "collapsed": false,
    "pycharm": {
     "name": "#%%\n"
    }
   }
  },
  {
   "cell_type": "code",
   "execution_count": null,
   "outputs": [],
   "source": [
    "for key, value in positions.items():\n",
    "    for role, attributes in value.items():\n",
    "        attributes['key'] = [x.strip() for x in attributes['key']]\n",
    "        attributes['preferred'] = [x.strip() for x in attributes['preferred']]"
   ],
   "metadata": {
    "collapsed": false,
    "pycharm": {
     "name": "#%%\n"
    }
   }
  },
  {
   "cell_type": "code",
   "execution_count": null,
   "outputs": [],
   "source": [
    "json.dump(positions,indent=2,fp=open('data/positions.json','w'))"
   ],
   "metadata": {
    "collapsed": false,
    "pycharm": {
     "name": "#%%\n"
    }
   }
  },
  {
   "cell_type": "code",
   "execution_count": null,
   "outputs": [],
   "source": [
    "scores = pd.DataFrame()\n",
    "scores['UID'] = fm['UID']\n",
    "scores['Name'] = fm.Name\n",
    "scores.head()"
   ],
   "metadata": {
    "collapsed": false,
    "pycharm": {
     "name": "#%%\n"
    }
   }
  },
  {
   "cell_type": "code",
   "execution_count": null,
   "outputs": [],
   "source": [
    "all_attributes = []\n",
    "\n",
    "for key, value in positions.items():\n",
    "    for role, attributes in value.items():\n",
    "        all_attributes.extend(attributes['key'])\n",
    "        all_attributes.extend(attributes['preferred'])"
   ],
   "metadata": {
    "collapsed": false,
    "pycharm": {
     "name": "#%%\n"
    }
   }
  },
  {
   "cell_type": "code",
   "execution_count": null,
   "outputs": [],
   "source": [
    "all_attributes = list(set(all_attributes))\n",
    "len(all_attributes)"
   ],
   "metadata": {
    "collapsed": false,
    "pycharm": {
     "name": "#%%\n"
    }
   }
  },
  {
   "cell_type": "code",
   "execution_count": null,
   "outputs": [],
   "source": [
    "NON_GK_ATRIBUTES = [x.strip() for x in NON_GK_ATRIBUTES]\n",
    "NON_PLAYER_ATTRIBUTES = [x.strip() for x in NON_PLAYER_ATTRIBUTES]\n",
    "NON_GK_ATRIBUTES"
   ],
   "metadata": {
    "collapsed": false,
    "pycharm": {
     "name": "#%%\n"
    }
   }
  },
  {
   "cell_type": "code",
   "execution_count": null,
   "outputs": [],
   "source": [
    "for pos_name, roles in positions.items():\n",
    "    for role_name, attributes in roles.items():\n",
    "        keys_22 = attributes['key']\n",
    "        preferred_22 = attributes['preferred']\n",
    "        keys_21 = [x + '_21' for x in keys_22]\n",
    "        keys_20 = [x + '_20' for x in keys_22]\n",
    "        preferred_21 = [x + '_21' for x in preferred_22]\n",
    "        preferred_20 = [x + '_20' for x in preferred_22]\n",
    "\n",
    "        if pos_name == 'GK':\n",
    "            others_22 = [x for x in all_attributes if x not in keys_22 and x not in preferred_22 and x not in NON_GK_ATRIBUTES]\n",
    "        else:\n",
    "            others_22 = [x for x in all_attributes if x not in keys_22 and x not in preferred_22 and x not in NON_PLAYER_ATTRIBUTES]\n",
    "\n",
    "        others_21 = [x + '_21' for x in others_22]\n",
    "        others_20 = [x + '_20' for x in others_22]\n",
    "        scores[role_name] = (fm[keys_22].mean(axis=1) * 0.55 + fm[preferred_22].mean(axis=1) * 0.35+ fm[others_22].mean(axis=1)*0.1)*0.6\\\n",
    "                            +(fm[keys_21].mean(axis=1) * 0.55 + fm[preferred_21].mean(axis=1) * 0.35+ fm[others_22].mean(axis=1)*0.1)*0.3\\\n",
    "                            +(fm[keys_20].mean(axis=1) * 0.55 + fm[preferred_20].mean(axis=1) * 0.35+ fm[others_22].mean(axis=1)*0.1)*0.1\n",
    "\n",
    "        print(f\"{pos_name} {role_name} done\")"
   ],
   "metadata": {
    "collapsed": false,
    "pycharm": {
     "name": "#%%\n"
    }
   }
  },
  {
   "cell_type": "code",
   "execution_count": null,
   "outputs": [],
   "source": [
    "from sklearn.preprocessing import MinMaxScaler"
   ],
   "metadata": {
    "collapsed": false,
    "pycharm": {
     "name": "#%%\n"
    }
   }
  },
  {
   "cell_type": "code",
   "execution_count": null,
   "outputs": [],
   "source": [
    "scaler = MinMaxScaler((0, 100))\n",
    "scores.iloc[:,2:] = pd.DataFrame(scaler.fit_transform(scores.iloc[:,2:]), columns=scores.iloc[:,2:].columns)"
   ],
   "metadata": {
    "collapsed": false,
    "pycharm": {
     "name": "#%%\n"
    }
   }
  },
  {
   "cell_type": "code",
   "execution_count": null,
   "outputs": [],
   "source": [
    "scores"
   ],
   "metadata": {
    "collapsed": false,
    "pycharm": {
     "name": "#%%\n"
    }
   }
  },
  {
   "cell_type": "markdown",
   "source": [],
   "metadata": {
    "collapsed": false,
    "pycharm": {
     "name": "#%% md\n"
    }
   }
  },
  {
   "cell_type": "code",
   "execution_count": null,
   "outputs": [],
   "source": [
    "searched_ids = fm[(fm['Based'] == 'Turkey (Süper Lig)')]['UID'].values"
   ],
   "metadata": {
    "collapsed": false,
    "pycharm": {
     "name": "#%%\n"
    }
   }
  },
  {
   "cell_type": "code",
   "execution_count": null,
   "outputs": [],
   "source": [
    "selected_role = 'Defensive Midfielder (Defend)'\n",
    "scores.loc[scores['UID'].isin(searched_ids),['Name',selected_role]].sort_values(by=selected_role, ascending=False).head(10)"
   ],
   "metadata": {
    "collapsed": false,
    "pycharm": {
     "name": "#%%\n"
    }
   }
  },
  {
   "cell_type": "code",
   "execution_count": null,
   "outputs": [],
   "source": [
    "#scores.to_csv('data/scores_13092022.csv', index=False)"
   ],
   "metadata": {
    "collapsed": false,
    "pycharm": {
     "name": "#%%\n"
    }
   }
  },
  {
   "cell_type": "markdown",
   "source": [
    "***"
   ],
   "metadata": {
    "collapsed": false,
    "pycharm": {
     "name": "#%% md\n"
    }
   }
  },
  {
   "cell_type": "code",
   "execution_count": null,
   "outputs": [],
   "source": [
    "import numpy as np"
   ],
   "metadata": {
    "collapsed": false,
    "pycharm": {
     "name": "#%%\n"
    }
   }
  },
  {
   "cell_type": "code",
   "execution_count": null,
   "outputs": [],
   "source": [
    "managers = pd.read_csv('data/fm22managers.csv')\n",
    "managers.columns = [x.strip() for x in managers.columns]\n",
    "managers = managers.applymap(lambda x: x.strip() if isinstance(x, str) else x)\n",
    "managers = managers.applymap(lambda x: np.nan if x=='' else x)\n",
    "managers = managers.dropna(subset=['Club'])\n",
    "managers = managers.drop_duplicates(subset=['Club'], keep='first')"
   ],
   "metadata": {
    "collapsed": false,
    "pycharm": {
     "name": "#%%\n"
    }
   }
  },
  {
   "cell_type": "code",
   "execution_count": null,
   "outputs": [],
   "source": [
    "miguel_crespo = fm[fm['Name'] == 'Miguel Crespo']"
   ],
   "metadata": {
    "collapsed": false,
    "pycharm": {
     "name": "#%%\n"
    }
   }
  },
  {
   "cell_type": "code",
   "execution_count": null,
   "outputs": [],
   "source": [
    "miguel_crespo"
   ],
   "metadata": {
    "collapsed": false,
    "pycharm": {
     "name": "#%%\n"
    }
   }
  },
  {
   "cell_type": "code",
   "execution_count": null,
   "outputs": [],
   "source": [
    "scores[scores['UID'] == miguel_crespo.UID.values[0]]"
   ],
   "metadata": {
    "collapsed": false,
    "pycharm": {
     "name": "#%%\n"
    }
   }
  },
  {
   "cell_type": "code",
   "execution_count": null,
   "outputs": [],
   "source": [
    "managers[managers['Club'] == miguel_crespo.Club.values[0]]"
   ],
   "metadata": {
    "collapsed": false,
    "pycharm": {
     "name": "#%%\n"
    }
   }
  }
 ],
 "metadata": {
  "kernelspec": {
   "display_name": "Python 3",
   "language": "python",
   "name": "python3"
  },
  "language_info": {
   "codemirror_mode": {
    "name": "ipython",
    "version": 2
   },
   "file_extension": ".py",
   "mimetype": "text/x-python",
   "name": "python",
   "nbconvert_exporter": "python",
   "pygments_lexer": "ipython2",
   "version": "2.7.6"
  }
 },
 "nbformat": 4,
 "nbformat_minor": 0
}