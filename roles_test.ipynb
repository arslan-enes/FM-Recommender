{
 "cells": [
  {
   "cell_type": "code",
   "execution_count": 100,
   "outputs": [],
   "source": [
    "import pandas as pd\n",
    "import json\n",
    "import numpy as np"
   ],
   "metadata": {
    "collapsed": false,
    "pycharm": {
     "name": "#%%\n"
    }
   }
  },
  {
   "cell_type": "code",
   "execution_count": 101,
   "outputs": [],
   "source": [
    "from key_features import *"
   ],
   "metadata": {
    "collapsed": false,
    "pycharm": {
     "name": "#%%\n"
    }
   }
  },
  {
   "cell_type": "code",
   "execution_count": 102,
   "outputs": [],
   "source": [
    "fm = pd.read_csv('data/fm_04092022.csv')"
   ],
   "metadata": {
    "collapsed": false,
    "pycharm": {
     "name": "#%%\n"
    }
   }
  },
  {
   "cell_type": "code",
   "execution_count": 103,
   "outputs": [
    {
     "data": {
      "text/plain": "             UID                Name  Nat                       Based  \\\n0        7458500        Lionel Messi  ARG            France (Ligue 1)   \n1       18004457     Kevin De Bruyne  BEL    England (Premier League)   \n2         735216   Cristiano Ronaldo  POR    England (Premier League)   \n3       85139014       Kylian Mbappé  FRA            France (Ligue 1)   \n4       98028755       Mohamed Salah  EGY    England (Premier League)   \n...          ...                 ...  ...                         ...   \n105670   7801043         Jonathan Xu  SIN  Singapore (NFL League One)   \n105671  67103072         Christopher  VEN                   Venezuela   \n105672  23277225    Sultan Ashardeen  SIN  Singapore (NFL League Two)   \n105673  23487831       Satria Salimi  SIN  Singapore (NFL League Two)   \n105674  23222801  Rashe Abdul Rahman  SIN  Singapore (NFL League Two)   \n\n                    Club         Position Preferred Foot     Right Foot  \\\n0                    PSG  AM (RC), ST (C)           Left  Fairly Strong   \n1        Manchester City  M (RLC), AM (C)         Either    Very Strong   \n2                Man Utd   AM (L), ST (C)         Either    Very Strong   \n3                    PSG  AM (RL), ST (C)          Right    Very Strong   \n4              Liverpool  AM (RL), ST (C)           Left           Weak   \n...                  ...              ...            ...            ...   \n105670    Project Vaults            D (C)     Right Only    Very Strong   \n105671               NaN           ST (C)     Right Only    Very Strong   \n105672     Balestier Utd        M/AM (LC)      Left Only           Weak   \n105673  Jungfrau Punggol         D/WB (R)      Left Only           Weak   \n105674  Jungfrau Punggol           ST (C)     Right Only    Very Strong   \n\n          Left Foot  Height  ... Bal_20  Kic_20 Sta_20 Agi_20 Wor_20  Bra_20  \\\n0       Very Strong  169 cm  ...     19       1     13     19      7      10   \n1            Strong  181 cm  ...     14       4     17     13     15      14   \n2            Strong  187 cm  ...     14       2     15     13     10      16   \n3        Reasonable  178 cm  ...     14       3     14     16     10      12   \n4       Very Strong  175 cm  ...     17       1     14     16     14      11   \n...             ...     ...  ...    ...     ...    ...    ...    ...     ...   \n105670         Weak  180 cm  ...      6       1      5      5      6      12   \n105671         Weak  189 cm  ...      3       1      8     11      3       1   \n105672  Very Strong  160 cm  ...      7       3      8     11     12       7   \n105673  Very Strong  178 cm  ...      3       1      4     11      8       3   \n105674         Weak  182 cm  ...      1       2      1     11      1       1   \n\n       Cmd_20 Fin_20 1v1_20  TRO_20  \n0           3     20      3       1  \n1           2     16      2       1  \n2           4     19      2       2  \n3           1     17      3       3  \n4           3     18      2       3  \n...       ...    ...    ...     ...  \n105670      3      4      3       2  \n105671      1     11      3       3  \n105672      4      7      2       2  \n105673      2      2      2       2  \n105674      3     11      3       3  \n\n[105675 rows x 161 columns]",
      "text/html": "<div>\n<style scoped>\n    .dataframe tbody tr th:only-of-type {\n        vertical-align: middle;\n    }\n\n    .dataframe tbody tr th {\n        vertical-align: top;\n    }\n\n    .dataframe thead th {\n        text-align: right;\n    }\n</style>\n<table border=\"1\" class=\"dataframe\">\n  <thead>\n    <tr style=\"text-align: right;\">\n      <th></th>\n      <th>UID</th>\n      <th>Name</th>\n      <th>Nat</th>\n      <th>Based</th>\n      <th>Club</th>\n      <th>Position</th>\n      <th>Preferred Foot</th>\n      <th>Right Foot</th>\n      <th>Left Foot</th>\n      <th>Height</th>\n      <th>...</th>\n      <th>Bal_20</th>\n      <th>Kic_20</th>\n      <th>Sta_20</th>\n      <th>Agi_20</th>\n      <th>Wor_20</th>\n      <th>Bra_20</th>\n      <th>Cmd_20</th>\n      <th>Fin_20</th>\n      <th>1v1_20</th>\n      <th>TRO_20</th>\n    </tr>\n  </thead>\n  <tbody>\n    <tr>\n      <th>0</th>\n      <td>7458500</td>\n      <td>Lionel Messi</td>\n      <td>ARG</td>\n      <td>France (Ligue 1)</td>\n      <td>PSG</td>\n      <td>AM (RC), ST (C)</td>\n      <td>Left</td>\n      <td>Fairly Strong</td>\n      <td>Very Strong</td>\n      <td>169 cm</td>\n      <td>...</td>\n      <td>19</td>\n      <td>1</td>\n      <td>13</td>\n      <td>19</td>\n      <td>7</td>\n      <td>10</td>\n      <td>3</td>\n      <td>20</td>\n      <td>3</td>\n      <td>1</td>\n    </tr>\n    <tr>\n      <th>1</th>\n      <td>18004457</td>\n      <td>Kevin De Bruyne</td>\n      <td>BEL</td>\n      <td>England (Premier League)</td>\n      <td>Manchester City</td>\n      <td>M (RLC), AM (C)</td>\n      <td>Either</td>\n      <td>Very Strong</td>\n      <td>Strong</td>\n      <td>181 cm</td>\n      <td>...</td>\n      <td>14</td>\n      <td>4</td>\n      <td>17</td>\n      <td>13</td>\n      <td>15</td>\n      <td>14</td>\n      <td>2</td>\n      <td>16</td>\n      <td>2</td>\n      <td>1</td>\n    </tr>\n    <tr>\n      <th>2</th>\n      <td>735216</td>\n      <td>Cristiano Ronaldo</td>\n      <td>POR</td>\n      <td>England (Premier League)</td>\n      <td>Man Utd</td>\n      <td>AM (L), ST (C)</td>\n      <td>Either</td>\n      <td>Very Strong</td>\n      <td>Strong</td>\n      <td>187 cm</td>\n      <td>...</td>\n      <td>14</td>\n      <td>2</td>\n      <td>15</td>\n      <td>13</td>\n      <td>10</td>\n      <td>16</td>\n      <td>4</td>\n      <td>19</td>\n      <td>2</td>\n      <td>2</td>\n    </tr>\n    <tr>\n      <th>3</th>\n      <td>85139014</td>\n      <td>Kylian Mbappé</td>\n      <td>FRA</td>\n      <td>France (Ligue 1)</td>\n      <td>PSG</td>\n      <td>AM (RL), ST (C)</td>\n      <td>Right</td>\n      <td>Very Strong</td>\n      <td>Reasonable</td>\n      <td>178 cm</td>\n      <td>...</td>\n      <td>14</td>\n      <td>3</td>\n      <td>14</td>\n      <td>16</td>\n      <td>10</td>\n      <td>12</td>\n      <td>1</td>\n      <td>17</td>\n      <td>3</td>\n      <td>3</td>\n    </tr>\n    <tr>\n      <th>4</th>\n      <td>98028755</td>\n      <td>Mohamed Salah</td>\n      <td>EGY</td>\n      <td>England (Premier League)</td>\n      <td>Liverpool</td>\n      <td>AM (RL), ST (C)</td>\n      <td>Left</td>\n      <td>Weak</td>\n      <td>Very Strong</td>\n      <td>175 cm</td>\n      <td>...</td>\n      <td>17</td>\n      <td>1</td>\n      <td>14</td>\n      <td>16</td>\n      <td>14</td>\n      <td>11</td>\n      <td>3</td>\n      <td>18</td>\n      <td>2</td>\n      <td>3</td>\n    </tr>\n    <tr>\n      <th>...</th>\n      <td>...</td>\n      <td>...</td>\n      <td>...</td>\n      <td>...</td>\n      <td>...</td>\n      <td>...</td>\n      <td>...</td>\n      <td>...</td>\n      <td>...</td>\n      <td>...</td>\n      <td>...</td>\n      <td>...</td>\n      <td>...</td>\n      <td>...</td>\n      <td>...</td>\n      <td>...</td>\n      <td>...</td>\n      <td>...</td>\n      <td>...</td>\n      <td>...</td>\n      <td>...</td>\n    </tr>\n    <tr>\n      <th>105670</th>\n      <td>7801043</td>\n      <td>Jonathan Xu</td>\n      <td>SIN</td>\n      <td>Singapore (NFL League One)</td>\n      <td>Project Vaults</td>\n      <td>D (C)</td>\n      <td>Right Only</td>\n      <td>Very Strong</td>\n      <td>Weak</td>\n      <td>180 cm</td>\n      <td>...</td>\n      <td>6</td>\n      <td>1</td>\n      <td>5</td>\n      <td>5</td>\n      <td>6</td>\n      <td>12</td>\n      <td>3</td>\n      <td>4</td>\n      <td>3</td>\n      <td>2</td>\n    </tr>\n    <tr>\n      <th>105671</th>\n      <td>67103072</td>\n      <td>Christopher</td>\n      <td>VEN</td>\n      <td>Venezuela</td>\n      <td>NaN</td>\n      <td>ST (C)</td>\n      <td>Right Only</td>\n      <td>Very Strong</td>\n      <td>Weak</td>\n      <td>189 cm</td>\n      <td>...</td>\n      <td>3</td>\n      <td>1</td>\n      <td>8</td>\n      <td>11</td>\n      <td>3</td>\n      <td>1</td>\n      <td>1</td>\n      <td>11</td>\n      <td>3</td>\n      <td>3</td>\n    </tr>\n    <tr>\n      <th>105672</th>\n      <td>23277225</td>\n      <td>Sultan Ashardeen</td>\n      <td>SIN</td>\n      <td>Singapore (NFL League Two)</td>\n      <td>Balestier Utd</td>\n      <td>M/AM (LC)</td>\n      <td>Left Only</td>\n      <td>Weak</td>\n      <td>Very Strong</td>\n      <td>160 cm</td>\n      <td>...</td>\n      <td>7</td>\n      <td>3</td>\n      <td>8</td>\n      <td>11</td>\n      <td>12</td>\n      <td>7</td>\n      <td>4</td>\n      <td>7</td>\n      <td>2</td>\n      <td>2</td>\n    </tr>\n    <tr>\n      <th>105673</th>\n      <td>23487831</td>\n      <td>Satria Salimi</td>\n      <td>SIN</td>\n      <td>Singapore (NFL League Two)</td>\n      <td>Jungfrau Punggol</td>\n      <td>D/WB (R)</td>\n      <td>Left Only</td>\n      <td>Weak</td>\n      <td>Very Strong</td>\n      <td>178 cm</td>\n      <td>...</td>\n      <td>3</td>\n      <td>1</td>\n      <td>4</td>\n      <td>11</td>\n      <td>8</td>\n      <td>3</td>\n      <td>2</td>\n      <td>2</td>\n      <td>2</td>\n      <td>2</td>\n    </tr>\n    <tr>\n      <th>105674</th>\n      <td>23222801</td>\n      <td>Rashe Abdul Rahman</td>\n      <td>SIN</td>\n      <td>Singapore (NFL League Two)</td>\n      <td>Jungfrau Punggol</td>\n      <td>ST (C)</td>\n      <td>Right Only</td>\n      <td>Very Strong</td>\n      <td>Weak</td>\n      <td>182 cm</td>\n      <td>...</td>\n      <td>1</td>\n      <td>2</td>\n      <td>1</td>\n      <td>11</td>\n      <td>1</td>\n      <td>1</td>\n      <td>3</td>\n      <td>11</td>\n      <td>3</td>\n      <td>3</td>\n    </tr>\n  </tbody>\n</table>\n<p>105675 rows × 161 columns</p>\n</div>"
     },
     "execution_count": 103,
     "metadata": {},
     "output_type": "execute_result"
    }
   ],
   "source": [
    "fm"
   ],
   "metadata": {
    "collapsed": false,
    "pycharm": {
     "name": "#%%\n"
    }
   }
  },
  {
   "cell_type": "code",
   "execution_count": 104,
   "outputs": [
    {
     "data": {
      "text/plain": "UID               315542\nName        Daniel Alves\nNat                  BRA\nBased     Spain (LaLiga)\nClub           Barcelona\n               ...      \nBra_20                17\nCmd_20                 3\nFin_20                12\n1v1_20                 2\nTRO_20                 1\nName: 136, Length: 161, dtype: object"
     },
     "execution_count": 104,
     "metadata": {},
     "output_type": "execute_result"
    }
   ],
   "source": [
    "fm.iloc[136]"
   ],
   "metadata": {
    "collapsed": false,
    "pycharm": {
     "name": "#%%\n"
    }
   }
  },
  {
   "cell_type": "code",
   "execution_count": 105,
   "outputs": [],
   "source": [
    "def transfer_value_to_float(value):\n",
    "    if 'M' in value:\n",
    "        if '.' in value:\n",
    "            return value.replace('M', '').replace('.','') + '00000'\n",
    "        else:\n",
    "            return value.replace('M', '') + '000000'\n",
    "    elif 'K' in value:\n",
    "        if '.' in value:\n",
    "            return value.replace('K', '').replace('.','') + '00'\n",
    "        else:\n",
    "            return value.replace('K', '') + '000'\n",
    "    else:\n",
    "        return value\n"
   ],
   "metadata": {
    "collapsed": false,
    "pycharm": {
     "name": "#%%\n"
    }
   }
  },
  {
   "cell_type": "code",
   "execution_count": 106,
   "outputs": [],
   "source": [
    "def transfer_value_prep():\n",
    "    fm['Transfer Value'] = fm['Transfer Value'].apply(lambda x: x.split(' ')[0])\n",
    "    fm['Transfer Value'] = fm['Transfer Value'].apply(lambda x: x.replace('€', ''))\n",
    "    fm['Transfer Value'] = fm['Transfer Value'].apply(lambda x: transfer_value_to_float(x))\n",
    "    fm['Transfer Value'] = fm['Transfer Value'].apply(lambda x: np.nan if x == 'Not' else x)\n",
    "    fm['Transfer Value'] = fm['Transfer Value'].astype(float)"
   ],
   "metadata": {
    "collapsed": false,
    "pycharm": {
     "name": "#%%\n"
    }
   }
  },
  {
   "cell_type": "code",
   "execution_count": 107,
   "outputs": [],
   "source": [
    "def wage_prep():\n",
    "    fm['Wage'] = fm['Wage'].fillna('-')\n",
    "    fm['Wage'] = fm['Wage'].apply(lambda x: x.split(' ')[0])\n",
    "    fm['Wage'] = fm['Wage'].apply(lambda x: x.replace('€', '').replace(',',''))\n",
    "    fm['Wage'] = fm['Wage'].apply(lambda x: np.nan if x == '-' else x)\n",
    "    fm['Wage'] = fm['Wage'].astype(float) * 12"
   ],
   "metadata": {
    "collapsed": false,
    "pycharm": {
     "name": "#%%\n"
    }
   }
  },
  {
   "cell_type": "code",
   "execution_count": 108,
   "outputs": [],
   "source": [
    "wage_prep()"
   ],
   "metadata": {
    "collapsed": false,
    "pycharm": {
     "name": "#%%\n"
    }
   }
  },
  {
   "cell_type": "code",
   "execution_count": 109,
   "outputs": [],
   "source": [
    "transfer_value_prep()"
   ],
   "metadata": {
    "collapsed": false,
    "pycharm": {
     "name": "#%%\n"
    }
   }
  },
  {
   "cell_type": "code",
   "execution_count": 110,
   "outputs": [
    {
     "data": {
      "text/plain": "0         73800000.0\n1         20676000.0\n2         29196000.0\n3         25104000.0\n4         13680000.0\n             ...    \n105670       20400.0\n105671           NaN\n105672        5700.0\n105673        3600.0\n105674        4200.0\nName: Wage, Length: 105675, dtype: float64"
     },
     "execution_count": 110,
     "metadata": {},
     "output_type": "execute_result"
    }
   ],
   "source": [
    "fm['Wage']"
   ],
   "metadata": {
    "collapsed": false,
    "pycharm": {
     "name": "#%%\n"
    }
   }
  },
  {
   "cell_type": "code",
   "execution_count": 111,
   "outputs": [
    {
     "data": {
      "text/plain": "0                 NaN\n1         248000000.0\n2                 NaN\n3         249000000.0\n4         136000000.0\n             ...     \n105670            0.0\n105671            0.0\n105672            0.0\n105673            0.0\n105674            0.0\nName: Transfer Value, Length: 105675, dtype: float64"
     },
     "execution_count": 111,
     "metadata": {},
     "output_type": "execute_result"
    }
   ],
   "source": [
    "fm['Transfer Value']"
   ],
   "metadata": {
    "collapsed": false,
    "pycharm": {
     "name": "#%%\n"
    }
   }
  },
  {
   "cell_type": "code",
   "execution_count": 112,
   "outputs": [],
   "source": [
    "fm.Caps.fillna(0, inplace=True)\n",
    "fm['Caps'] = fm['Caps'].apply(lambda x: True if x != 0 else False)"
   ],
   "metadata": {
    "collapsed": false,
    "pycharm": {
     "name": "#%%\n"
    }
   }
  },
  {
   "cell_type": "code",
   "execution_count": 113,
   "outputs": [],
   "source": [
    "fm.to_csv('data/fm_13092022.csv', index=False)"
   ],
   "metadata": {
    "collapsed": false,
    "pycharm": {
     "name": "#%%\n"
    }
   }
  },
  {
   "cell_type": "markdown",
   "source": [
    "***"
   ],
   "metadata": {
    "collapsed": false,
    "pycharm": {
     "name": "#%% md\n"
    }
   }
  },
  {
   "cell_type": "code",
   "execution_count": 5,
   "outputs": [
    {
     "data": {
      "text/plain": "{'key': [' Ref ',\n  ' Pos ',\n  ' Ant ',\n  ' Cnt ',\n  ' Kic ',\n  ' Agi ',\n  ' Cmd ',\n  ' 1v1 '],\n 'preferred': [' Vis ',\n  ' Cmp ',\n  ' Pas ',\n  ' Dec ',\n  ' Fir ',\n  ' Com ',\n  ' Acc ',\n  ' Aer ',\n  ' Thr ',\n  ' Han ',\n  ' TRO ']}"
     },
     "execution_count": 5,
     "metadata": {},
     "output_type": "execute_result"
    }
   ],
   "source": [
    "{'key': GK['Sweeper Keeper (Defend)'][0], 'preferred': GK['Sweeper Keeper (Defend)'][1]}"
   ],
   "metadata": {
    "collapsed": false,
    "pycharm": {
     "name": "#%%\n"
    }
   }
  },
  {
   "cell_type": "code",
   "execution_count": 6,
   "outputs": [],
   "source": [
    "for key, value in GK.items():\n",
    "    GK[key] = {'key': value[0], 'preferred':value[1]}"
   ],
   "metadata": {
    "collapsed": false,
    "pycharm": {
     "name": "#%%\n"
    }
   }
  },
  {
   "cell_type": "code",
   "execution_count": 7,
   "outputs": [],
   "source": [
    "for key, value in DEF.items():\n",
    "    DEF[key] = {'key': value[0], 'preferred':value[1]}"
   ],
   "metadata": {
    "collapsed": false,
    "pycharm": {
     "name": "#%%\n"
    }
   }
  },
  {
   "cell_type": "code",
   "execution_count": 8,
   "outputs": [],
   "source": [
    "for key, value in MID.items():\n",
    "    MID[key] = {'key': value[0], 'preferred':value[1]}"
   ],
   "metadata": {
    "collapsed": false,
    "pycharm": {
     "name": "#%%\n"
    }
   }
  },
  {
   "cell_type": "code",
   "execution_count": 9,
   "outputs": [],
   "source": [
    "for key, value in FW.items():\n",
    "    FW[key] = {'key': value[0], 'preferred':value[1]}"
   ],
   "metadata": {
    "collapsed": false,
    "pycharm": {
     "name": "#%%\n"
    }
   }
  },
  {
   "cell_type": "code",
   "execution_count": 10,
   "outputs": [],
   "source": [
    "positions = {'GK': GK, 'DEF': DEF, 'MID': MID, 'FW': FW}"
   ],
   "metadata": {
    "collapsed": false,
    "pycharm": {
     "name": "#%%\n"
    }
   }
  },
  {
   "cell_type": "code",
   "execution_count": 11,
   "outputs": [],
   "source": [
    "for key, value in positions.items():\n",
    "    for role, attributes in value.items():\n",
    "        attributes['key'] = [x.strip() for x in attributes['key']]\n",
    "        attributes['preferred'] = [x.strip() for x in attributes['preferred']]"
   ],
   "metadata": {
    "collapsed": false,
    "pycharm": {
     "name": "#%%\n"
    }
   }
  },
  {
   "cell_type": "code",
   "execution_count": 12,
   "outputs": [],
   "source": [
    "json.dump(positions,indent=2,fp=open('data/positions.json','w'))"
   ],
   "metadata": {
    "collapsed": false,
    "pycharm": {
     "name": "#%%\n"
    }
   }
  },
  {
   "cell_type": "code",
   "execution_count": 13,
   "outputs": [
    {
     "data": {
      "text/plain": "        UID               Name\n0   7458500       Lionel Messi\n1  18004457    Kevin De Bruyne\n2    735216  Cristiano Ronaldo\n3  85139014      Kylian Mbappé\n4  98028755      Mohamed Salah",
      "text/html": "<div>\n<style scoped>\n    .dataframe tbody tr th:only-of-type {\n        vertical-align: middle;\n    }\n\n    .dataframe tbody tr th {\n        vertical-align: top;\n    }\n\n    .dataframe thead th {\n        text-align: right;\n    }\n</style>\n<table border=\"1\" class=\"dataframe\">\n  <thead>\n    <tr style=\"text-align: right;\">\n      <th></th>\n      <th>UID</th>\n      <th>Name</th>\n    </tr>\n  </thead>\n  <tbody>\n    <tr>\n      <th>0</th>\n      <td>7458500</td>\n      <td>Lionel Messi</td>\n    </tr>\n    <tr>\n      <th>1</th>\n      <td>18004457</td>\n      <td>Kevin De Bruyne</td>\n    </tr>\n    <tr>\n      <th>2</th>\n      <td>735216</td>\n      <td>Cristiano Ronaldo</td>\n    </tr>\n    <tr>\n      <th>3</th>\n      <td>85139014</td>\n      <td>Kylian Mbappé</td>\n    </tr>\n    <tr>\n      <th>4</th>\n      <td>98028755</td>\n      <td>Mohamed Salah</td>\n    </tr>\n  </tbody>\n</table>\n</div>"
     },
     "execution_count": 13,
     "metadata": {},
     "output_type": "execute_result"
    }
   ],
   "source": [
    "scores = pd.DataFrame()\n",
    "scores['UID'] = fm['UID']\n",
    "scores['Name'] = fm.Name\n",
    "scores.head()"
   ],
   "metadata": {
    "collapsed": false,
    "pycharm": {
     "name": "#%%\n"
    }
   }
  },
  {
   "cell_type": "code",
   "execution_count": 14,
   "outputs": [],
   "source": [
    "all_attributes = []\n",
    "\n",
    "for key, value in positions.items():\n",
    "    for role, attributes in value.items():\n",
    "        all_attributes.extend(attributes['key'])\n",
    "        all_attributes.extend(attributes['preferred'])"
   ],
   "metadata": {
    "collapsed": false,
    "pycharm": {
     "name": "#%%\n"
    }
   }
  },
  {
   "cell_type": "code",
   "execution_count": 15,
   "outputs": [
    {
     "data": {
      "text/plain": "39"
     },
     "execution_count": 15,
     "metadata": {},
     "output_type": "execute_result"
    }
   ],
   "source": [
    "all_attributes = list(set(all_attributes))\n",
    "len(all_attributes)"
   ],
   "metadata": {
    "collapsed": false,
    "pycharm": {
     "name": "#%%\n"
    }
   }
  },
  {
   "cell_type": "code",
   "execution_count": 16,
   "outputs": [
    {
     "data": {
      "text/plain": "['L Th', 'Lon', 'Tck', 'Cro', 'Mar', 'Cor', 'Hea', 'Dri', 'Fin']"
     },
     "execution_count": 16,
     "metadata": {},
     "output_type": "execute_result"
    }
   ],
   "source": [
    "NON_GK_ATRIBUTES = [x.strip() for x in NON_GK_ATRIBUTES]\n",
    "NON_PLAYER_ATTRIBUTES = [x.strip() for x in NON_PLAYER_ATTRIBUTES]\n",
    "NON_GK_ATRIBUTES"
   ],
   "metadata": {
    "collapsed": false,
    "pycharm": {
     "name": "#%%\n"
    }
   }
  },
  {
   "cell_type": "code",
   "execution_count": 17,
   "outputs": [
    {
     "name": "stdout",
     "output_type": "stream",
     "text": [
      "GK Sweeper Keeper (Defend) done\n",
      "GK Sweeper Keeper (Support) done\n",
      "GK Sweeper Keeper (Attack) done\n",
      "GK Goalkeeper (Defend) done\n",
      "DEF Ball Playing Defender (Defender) done\n",
      "DEF Ball Playing Defender (Stopper) done\n",
      "DEF Ball Playing Defender (Cover) done\n",
      "DEF No-Nonsense Centre-Back (Defend) done\n",
      "DEF No-Nonsense Centre-Back (Stopper) done\n",
      "DEF No-Nonsense Centre-Back (Cover) done\n",
      "DEF Wide Center-Back (Defend) done\n",
      "DEF Wide Center-Back (Support) done\n",
      "DEF Wide Center-Back (Attack) done\n",
      "DEF Libero (Support) done\n",
      "DEF Libero (Attack) done\n",
      "DEF Central Defender (Defend) done\n",
      "DEF Central Defender (Stopper) done\n",
      "DEF Central Defender (Cover) done\n",
      "DEF Full-Back (Defend) done\n",
      "DEF Full-Back (Support) done\n",
      "DEF Full-Back (Attack) done\n",
      "DEF Full-Back (Automatic) done\n",
      "DEF Wing-Back (Defend) done\n",
      "DEF Wing-Back (Support) done\n",
      "DEF Wing-Back (Attack) done\n",
      "DEF Wing-Back (Automatic) done\n",
      "DEF No-Nonsense Full-Back (Defend) done\n",
      "DEF Complete Wing-Back (Support) done\n",
      "DEF Complete Wing-Back (Attack) done\n",
      "DEF Inverted Wing-Back (Defend) done\n",
      "DEF Inverted Wing-Back (Support) done\n",
      "DEF Inverted Wing-Back (Attack) done\n",
      "DEF Inverted Wing-Back (Automatic) done\n",
      "MID Advanced Playmaker (Support) done\n",
      "MID Advanced Playmaker (Attack) done\n",
      "MID Anchor (Defend) done\n",
      "MID Attacking Midfielder (Support) done\n",
      "MID Attacking Midfielder (Attack) done\n",
      "MID Ball Winning Midfielder (Defend) done\n",
      "MID Ball Winning Midfielder (Support) done\n",
      "MID Box to Box Midfielder (Support) done\n",
      "MID Carillero (Support) done\n",
      "MID Central Midfielder (Defend) done\n",
      "MID Central Midfielder (Support) done\n",
      "MID Central Midfielder (Attack) done\n",
      "MID Deep Lying Playmaker (Defend) done\n",
      "MID Deep Lying Playmaker (Support) done\n",
      "MID Defensive Midfielder (Defend) done\n",
      "MID Defensive Midfielder (Support) done\n",
      "MID Enganche (Support) done\n",
      "MID Half Back (Defend) done\n",
      "MID Inside Forward (Support) done\n",
      "MID Inside Forward (Attack) done\n",
      "MID Inverted Winger (Support) done\n",
      "MID Inverted Winger (Attack) done\n",
      "MID Mezzala (Support) done\n",
      "MID Mezzala (Attack) done\n",
      "MID Raumdeuter (Support) done\n",
      "MID Regista (Support) done\n",
      "MID Roaming Playmaker (Support) done\n",
      "MID Segundo Volante (Support) done\n",
      "MID Segundo Volante (Attack) done\n",
      "MID Shadow Striker (Attack) done\n",
      "MID Wide Midfielder (Defend) done\n",
      "MID Wide Midfielder (Support) done\n",
      "MID Wide Midfielder (Attack) done\n",
      "MID Wide Playmaker (Support) done\n",
      "MID Wide Playmaker (Attack) done\n",
      "MID Wide Target Forward (Support) done\n",
      "MID Wide Target Forward (Attack) done\n",
      "MID Winger (Support) done\n",
      "MID Winger (Attack) done\n",
      "FW Complete Forward (Attack) done\n",
      "FW Complete Forward (Support) done\n",
      "FW Target Forward (Support) done\n",
      "FW Target Forward (Attack) done\n",
      "FW Pressing Forward (Defend) done\n",
      "FW Pressing Forward (Support) done\n",
      "FW Pressing Forward (Attack) done\n",
      "FW Deep Lying Forward (Support) done\n",
      "FW Deep Lying Forward (Attack) done\n",
      "FW Poacher (Attack) done\n",
      "FW Advanced Forward (Attack) done\n",
      "FW Trequartista (Attack) done\n",
      "FW False Nine (Support) done\n"
     ]
    }
   ],
   "source": [
    "for pos_name, roles in positions.items():\n",
    "    for role_name, attributes in roles.items():\n",
    "        keys_22 = attributes['key']\n",
    "        preferred_22 = attributes['preferred']\n",
    "        keys_21 = [x + '_21' for x in keys_22]\n",
    "        keys_20 = [x + '_20' for x in keys_22]\n",
    "        preferred_21 = [x + '_21' for x in preferred_22]\n",
    "        preferred_20 = [x + '_20' for x in preferred_22]\n",
    "\n",
    "        if pos_name == 'GK':\n",
    "            others_22 = [x for x in all_attributes if x not in keys_22 and x not in preferred_22 and x not in NON_GK_ATRIBUTES]\n",
    "        else:\n",
    "            others_22 = [x for x in all_attributes if x not in keys_22 and x not in preferred_22 and x not in NON_PLAYER_ATTRIBUTES]\n",
    "\n",
    "        others_21 = [x + '_21' for x in others_22]\n",
    "        others_20 = [x + '_20' for x in others_22]\n",
    "        scores[role_name] = (fm[keys_22].mean(axis=1) * 0.55 + fm[preferred_22].mean(axis=1) * 0.35+ fm[others_22].mean(axis=1)*0.1)*0.6\\\n",
    "                            +(fm[keys_21].mean(axis=1) * 0.55 + fm[preferred_21].mean(axis=1) * 0.35+ fm[others_22].mean(axis=1)*0.1)*0.3\\\n",
    "                            +(fm[keys_20].mean(axis=1) * 0.55 + fm[preferred_20].mean(axis=1) * 0.35+ fm[others_22].mean(axis=1)*0.1)*0.1\n",
    "\n",
    "        print(f\"{pos_name} {role_name} done\")"
   ],
   "metadata": {
    "collapsed": false,
    "pycharm": {
     "name": "#%%\n"
    }
   }
  },
  {
   "cell_type": "code",
   "execution_count": 18,
   "outputs": [],
   "source": [
    "from sklearn.preprocessing import MinMaxScaler"
   ],
   "metadata": {
    "collapsed": false,
    "pycharm": {
     "name": "#%%\n"
    }
   }
  },
  {
   "cell_type": "code",
   "execution_count": 19,
   "outputs": [],
   "source": [
    "scaler = MinMaxScaler((0, 100))\n",
    "scores.iloc[:,2:] = pd.DataFrame(scaler.fit_transform(scores.iloc[:,2:]), columns=scores.iloc[:,2:].columns)"
   ],
   "metadata": {
    "collapsed": false,
    "pycharm": {
     "name": "#%%\n"
    }
   }
  },
  {
   "cell_type": "code",
   "execution_count": 20,
   "outputs": [
    {
     "data": {
      "text/plain": "             UID                Name  Sweeper Keeper (Defend)  \\\n0        7458500        Lionel Messi                48.598259   \n1       18004457     Kevin De Bruyne                47.071123   \n2         735216   Cristiano Ronaldo                41.105145   \n3       85139014       Kylian Mbappé                44.851561   \n4       98028755       Mohamed Salah                47.501334   \n...          ...                 ...                      ...   \n105670   7801043         Jonathan Xu                16.262681   \n105671  67103072         Christopher                 7.096397   \n105672  23277225    Sultan Ashardeen                 5.883961   \n105673  23487831       Satria Salimi                 7.624824   \n105674  23222801  Rashe Abdul Rahman                 0.465048   \n\n        Sweeper Keeper (Support)  Sweeper Keeper (Attack)  \\\n0                      50.900626                48.621327   \n1                      48.849252                46.709940   \n2                      41.856870                40.209627   \n3                      46.977652                45.093840   \n4                      48.460738                47.017198   \n...                          ...                      ...   \n105670                 15.675351                14.893391   \n105671                  7.677285                 7.458001   \n105672                  5.979715                 5.393650   \n105673                  7.307348                 6.902010   \n105674                  1.497741                 1.355396   \n\n        Goalkeeper (Defend)  Ball Playing Defender (Defender)  \\\n0                 37.991271                         71.782208   \n1                 37.049992                         75.875811   \n2                 34.496707                         72.589088   \n3                 34.934224                         62.458683   \n4                 36.679734                         73.873958   \n...                     ...                               ...   \n105670            17.454431                         35.569064   \n105671             6.690852                         19.076253   \n105672             6.099699                          6.214953   \n105673             7.805731                         12.889805   \n105674             0.068608                          5.550044   \n\n        Ball Playing Defender (Stopper)  Ball Playing Defender (Cover)  \\\n0                             77.580943                      79.672841   \n1                             80.618178                      80.605860   \n2                             75.269962                      76.346184   \n3                             66.191743                      70.365017   \n4                             76.662360                      78.879207   \n...                                 ...                            ...   \n105670                        36.407481                      33.533979   \n105671                        21.371481                      17.449288   \n105672                         7.501561                       7.117930   \n105673                        14.105919                      12.026349   \n105674                         5.332684                       2.658985   \n\n        No-Nonsense Centre-Back (Defend)  ...  Target Forward (Attack)  \\\n0                              50.398150  ...                79.490255   \n1                              60.925762  ...                75.966042   \n2                              65.096741  ...                83.322316   \n3                              48.755467  ...                73.136851   \n4                              63.715736  ...                80.293873   \n...                                  ...  ...                      ...   \n105670                         41.551618  ...                32.328889   \n105671                         18.545291  ...                27.905681   \n105672                          6.254800  ...                 6.054053   \n105673                         16.923892  ...                 8.420526   \n105674                          7.167540  ...                11.217610   \n\n        Pressing Forward (Defend)  Pressing Forward (Support)  \\\n0                       82.398546                   84.396432   \n1                       85.033273                   87.209242   \n2                       74.145618                   75.809261   \n3                       82.140336                   83.340182   \n4                       88.921138                   90.228671   \n...                           ...                         ...   \n105670                  30.062232                   30.859875   \n105671                  19.326234                   19.296103   \n105672                  15.411895                   14.665386   \n105673                  16.412705                   15.388845   \n105674                   7.102421                    6.618783   \n\n        Pressing Forward (Attack)  Deep Lying Forward (Support)  \\\n0                       82.329516                    100.000000   \n1                       84.736319                     90.668108   \n2                       76.749777                     84.375619   \n3                       83.735965                     86.776450   \n4                       90.152609                     90.856627   \n...                           ...                           ...   \n105670                  30.466701                     27.738268   \n105671                  22.963766                     30.059897   \n105672                  15.154153                     14.454079   \n105673                  14.605953                     11.796251   \n105674                  10.715750                     12.552802   \n\n        Deep Lying Forward (Attack)  Poacher (Attack)  \\\n0                        100.000000         99.253574   \n1                         90.018860         83.675226   \n2                         82.920869         96.422424   \n3                         87.006150         95.284344   \n4                         90.289463         92.198532   \n...                             ...               ...   \n105670                    27.471915         31.205873   \n105671                    30.146781         40.503706   \n105672                    15.052071         14.468369   \n105673                    11.690037         12.360814   \n105674                    12.608446         26.755418   \n\n        Advanced Forward (Attack)  Trequartista (Attack)  False Nine (Support)  \n0                      100.000000             100.000000            100.000000  \n1                       89.982949              84.152873             86.275898  \n2                       85.262985              81.275403             79.924705  \n3                       96.192943              88.596203             87.766337  \n4                       95.531873              89.224046             89.790820  \n...                           ...                    ...                   ...  \n105670                  27.843652              24.046561             24.717146  \n105671                  34.327125              29.075070             28.766112  \n105672                  21.404774              16.687134             17.085442  \n105673                  15.230194              12.208635             12.826049  \n105674                  20.590241              15.908816             14.712409  \n\n[105675 rows x 87 columns]",
      "text/html": "<div>\n<style scoped>\n    .dataframe tbody tr th:only-of-type {\n        vertical-align: middle;\n    }\n\n    .dataframe tbody tr th {\n        vertical-align: top;\n    }\n\n    .dataframe thead th {\n        text-align: right;\n    }\n</style>\n<table border=\"1\" class=\"dataframe\">\n  <thead>\n    <tr style=\"text-align: right;\">\n      <th></th>\n      <th>UID</th>\n      <th>Name</th>\n      <th>Sweeper Keeper (Defend)</th>\n      <th>Sweeper Keeper (Support)</th>\n      <th>Sweeper Keeper (Attack)</th>\n      <th>Goalkeeper (Defend)</th>\n      <th>Ball Playing Defender (Defender)</th>\n      <th>Ball Playing Defender (Stopper)</th>\n      <th>Ball Playing Defender (Cover)</th>\n      <th>No-Nonsense Centre-Back (Defend)</th>\n      <th>...</th>\n      <th>Target Forward (Attack)</th>\n      <th>Pressing Forward (Defend)</th>\n      <th>Pressing Forward (Support)</th>\n      <th>Pressing Forward (Attack)</th>\n      <th>Deep Lying Forward (Support)</th>\n      <th>Deep Lying Forward (Attack)</th>\n      <th>Poacher (Attack)</th>\n      <th>Advanced Forward (Attack)</th>\n      <th>Trequartista (Attack)</th>\n      <th>False Nine (Support)</th>\n    </tr>\n  </thead>\n  <tbody>\n    <tr>\n      <th>0</th>\n      <td>7458500</td>\n      <td>Lionel Messi</td>\n      <td>48.598259</td>\n      <td>50.900626</td>\n      <td>48.621327</td>\n      <td>37.991271</td>\n      <td>71.782208</td>\n      <td>77.580943</td>\n      <td>79.672841</td>\n      <td>50.398150</td>\n      <td>...</td>\n      <td>79.490255</td>\n      <td>82.398546</td>\n      <td>84.396432</td>\n      <td>82.329516</td>\n      <td>100.000000</td>\n      <td>100.000000</td>\n      <td>99.253574</td>\n      <td>100.000000</td>\n      <td>100.000000</td>\n      <td>100.000000</td>\n    </tr>\n    <tr>\n      <th>1</th>\n      <td>18004457</td>\n      <td>Kevin De Bruyne</td>\n      <td>47.071123</td>\n      <td>48.849252</td>\n      <td>46.709940</td>\n      <td>37.049992</td>\n      <td>75.875811</td>\n      <td>80.618178</td>\n      <td>80.605860</td>\n      <td>60.925762</td>\n      <td>...</td>\n      <td>75.966042</td>\n      <td>85.033273</td>\n      <td>87.209242</td>\n      <td>84.736319</td>\n      <td>90.668108</td>\n      <td>90.018860</td>\n      <td>83.675226</td>\n      <td>89.982949</td>\n      <td>84.152873</td>\n      <td>86.275898</td>\n    </tr>\n    <tr>\n      <th>2</th>\n      <td>735216</td>\n      <td>Cristiano Ronaldo</td>\n      <td>41.105145</td>\n      <td>41.856870</td>\n      <td>40.209627</td>\n      <td>34.496707</td>\n      <td>72.589088</td>\n      <td>75.269962</td>\n      <td>76.346184</td>\n      <td>65.096741</td>\n      <td>...</td>\n      <td>83.322316</td>\n      <td>74.145618</td>\n      <td>75.809261</td>\n      <td>76.749777</td>\n      <td>84.375619</td>\n      <td>82.920869</td>\n      <td>96.422424</td>\n      <td>85.262985</td>\n      <td>81.275403</td>\n      <td>79.924705</td>\n    </tr>\n    <tr>\n      <th>3</th>\n      <td>85139014</td>\n      <td>Kylian Mbappé</td>\n      <td>44.851561</td>\n      <td>46.977652</td>\n      <td>45.093840</td>\n      <td>34.934224</td>\n      <td>62.458683</td>\n      <td>66.191743</td>\n      <td>70.365017</td>\n      <td>48.755467</td>\n      <td>...</td>\n      <td>73.136851</td>\n      <td>82.140336</td>\n      <td>83.340182</td>\n      <td>83.735965</td>\n      <td>86.776450</td>\n      <td>87.006150</td>\n      <td>95.284344</td>\n      <td>96.192943</td>\n      <td>88.596203</td>\n      <td>87.766337</td>\n    </tr>\n    <tr>\n      <th>4</th>\n      <td>98028755</td>\n      <td>Mohamed Salah</td>\n      <td>47.501334</td>\n      <td>48.460738</td>\n      <td>47.017198</td>\n      <td>36.679734</td>\n      <td>73.873958</td>\n      <td>76.662360</td>\n      <td>78.879207</td>\n      <td>63.715736</td>\n      <td>...</td>\n      <td>80.293873</td>\n      <td>88.921138</td>\n      <td>90.228671</td>\n      <td>90.152609</td>\n      <td>90.856627</td>\n      <td>90.289463</td>\n      <td>92.198532</td>\n      <td>95.531873</td>\n      <td>89.224046</td>\n      <td>89.790820</td>\n    </tr>\n    <tr>\n      <th>...</th>\n      <td>...</td>\n      <td>...</td>\n      <td>...</td>\n      <td>...</td>\n      <td>...</td>\n      <td>...</td>\n      <td>...</td>\n      <td>...</td>\n      <td>...</td>\n      <td>...</td>\n      <td>...</td>\n      <td>...</td>\n      <td>...</td>\n      <td>...</td>\n      <td>...</td>\n      <td>...</td>\n      <td>...</td>\n      <td>...</td>\n      <td>...</td>\n      <td>...</td>\n      <td>...</td>\n    </tr>\n    <tr>\n      <th>105670</th>\n      <td>7801043</td>\n      <td>Jonathan Xu</td>\n      <td>16.262681</td>\n      <td>15.675351</td>\n      <td>14.893391</td>\n      <td>17.454431</td>\n      <td>35.569064</td>\n      <td>36.407481</td>\n      <td>33.533979</td>\n      <td>41.551618</td>\n      <td>...</td>\n      <td>32.328889</td>\n      <td>30.062232</td>\n      <td>30.859875</td>\n      <td>30.466701</td>\n      <td>27.738268</td>\n      <td>27.471915</td>\n      <td>31.205873</td>\n      <td>27.843652</td>\n      <td>24.046561</td>\n      <td>24.717146</td>\n    </tr>\n    <tr>\n      <th>105671</th>\n      <td>67103072</td>\n      <td>Christopher</td>\n      <td>7.096397</td>\n      <td>7.677285</td>\n      <td>7.458001</td>\n      <td>6.690852</td>\n      <td>19.076253</td>\n      <td>21.371481</td>\n      <td>17.449288</td>\n      <td>18.545291</td>\n      <td>...</td>\n      <td>27.905681</td>\n      <td>19.326234</td>\n      <td>19.296103</td>\n      <td>22.963766</td>\n      <td>30.059897</td>\n      <td>30.146781</td>\n      <td>40.503706</td>\n      <td>34.327125</td>\n      <td>29.075070</td>\n      <td>28.766112</td>\n    </tr>\n    <tr>\n      <th>105672</th>\n      <td>23277225</td>\n      <td>Sultan Ashardeen</td>\n      <td>5.883961</td>\n      <td>5.979715</td>\n      <td>5.393650</td>\n      <td>6.099699</td>\n      <td>6.214953</td>\n      <td>7.501561</td>\n      <td>7.117930</td>\n      <td>6.254800</td>\n      <td>...</td>\n      <td>6.054053</td>\n      <td>15.411895</td>\n      <td>14.665386</td>\n      <td>15.154153</td>\n      <td>14.454079</td>\n      <td>15.052071</td>\n      <td>14.468369</td>\n      <td>21.404774</td>\n      <td>16.687134</td>\n      <td>17.085442</td>\n    </tr>\n    <tr>\n      <th>105673</th>\n      <td>23487831</td>\n      <td>Satria Salimi</td>\n      <td>7.624824</td>\n      <td>7.307348</td>\n      <td>6.902010</td>\n      <td>7.805731</td>\n      <td>12.889805</td>\n      <td>14.105919</td>\n      <td>12.026349</td>\n      <td>16.923892</td>\n      <td>...</td>\n      <td>8.420526</td>\n      <td>16.412705</td>\n      <td>15.388845</td>\n      <td>14.605953</td>\n      <td>11.796251</td>\n      <td>11.690037</td>\n      <td>12.360814</td>\n      <td>15.230194</td>\n      <td>12.208635</td>\n      <td>12.826049</td>\n    </tr>\n    <tr>\n      <th>105674</th>\n      <td>23222801</td>\n      <td>Rashe Abdul Rahman</td>\n      <td>0.465048</td>\n      <td>1.497741</td>\n      <td>1.355396</td>\n      <td>0.068608</td>\n      <td>5.550044</td>\n      <td>5.332684</td>\n      <td>2.658985</td>\n      <td>7.167540</td>\n      <td>...</td>\n      <td>11.217610</td>\n      <td>7.102421</td>\n      <td>6.618783</td>\n      <td>10.715750</td>\n      <td>12.552802</td>\n      <td>12.608446</td>\n      <td>26.755418</td>\n      <td>20.590241</td>\n      <td>15.908816</td>\n      <td>14.712409</td>\n    </tr>\n  </tbody>\n</table>\n<p>105675 rows × 87 columns</p>\n</div>"
     },
     "execution_count": 20,
     "metadata": {},
     "output_type": "execute_result"
    }
   ],
   "source": [
    "scores"
   ],
   "metadata": {
    "collapsed": false,
    "pycharm": {
     "name": "#%%\n"
    }
   }
  },
  {
   "cell_type": "markdown",
   "source": [],
   "metadata": {
    "collapsed": false,
    "pycharm": {
     "name": "#%% md\n"
    }
   }
  },
  {
   "cell_type": "code",
   "execution_count": 21,
   "outputs": [],
   "source": [
    "searched_ids = fm[(fm['Based'] == 'Turkey (Süper Lig)')]['UID'].values"
   ],
   "metadata": {
    "collapsed": false,
    "pycharm": {
     "name": "#%%\n"
    }
   }
  },
  {
   "cell_type": "code",
   "execution_count": 22,
   "outputs": [
    {
     "data": {
      "text/plain": "                     Name  Defensive Midfielder (Defend)\n34341    Atiba Hutchinson                      89.837296\n34324               Souza                      88.964646\n34367        Luiz Gustavo                      85.222284\n35298  Benjamin Stambouli                      83.643629\n35164        Lucas Biglia                      83.620334\n34531        Hakan Arslan                      83.071120\n34298      Miralem Pjanić                      82.782626\n35312     Mahmut Tekdemir                      82.472629\n34317              Marcão                      81.912663\n35042          André Poko                      81.878617",
      "text/html": "<div>\n<style scoped>\n    .dataframe tbody tr th:only-of-type {\n        vertical-align: middle;\n    }\n\n    .dataframe tbody tr th {\n        vertical-align: top;\n    }\n\n    .dataframe thead th {\n        text-align: right;\n    }\n</style>\n<table border=\"1\" class=\"dataframe\">\n  <thead>\n    <tr style=\"text-align: right;\">\n      <th></th>\n      <th>Name</th>\n      <th>Defensive Midfielder (Defend)</th>\n    </tr>\n  </thead>\n  <tbody>\n    <tr>\n      <th>34341</th>\n      <td>Atiba Hutchinson</td>\n      <td>89.837296</td>\n    </tr>\n    <tr>\n      <th>34324</th>\n      <td>Souza</td>\n      <td>88.964646</td>\n    </tr>\n    <tr>\n      <th>34367</th>\n      <td>Luiz Gustavo</td>\n      <td>85.222284</td>\n    </tr>\n    <tr>\n      <th>35298</th>\n      <td>Benjamin Stambouli</td>\n      <td>83.643629</td>\n    </tr>\n    <tr>\n      <th>35164</th>\n      <td>Lucas Biglia</td>\n      <td>83.620334</td>\n    </tr>\n    <tr>\n      <th>34531</th>\n      <td>Hakan Arslan</td>\n      <td>83.071120</td>\n    </tr>\n    <tr>\n      <th>34298</th>\n      <td>Miralem Pjanić</td>\n      <td>82.782626</td>\n    </tr>\n    <tr>\n      <th>35312</th>\n      <td>Mahmut Tekdemir</td>\n      <td>82.472629</td>\n    </tr>\n    <tr>\n      <th>34317</th>\n      <td>Marcão</td>\n      <td>81.912663</td>\n    </tr>\n    <tr>\n      <th>35042</th>\n      <td>André Poko</td>\n      <td>81.878617</td>\n    </tr>\n  </tbody>\n</table>\n</div>"
     },
     "execution_count": 22,
     "metadata": {},
     "output_type": "execute_result"
    }
   ],
   "source": [
    "selected_role = 'Defensive Midfielder (Defend)'\n",
    "scores.loc[scores['UID'].isin(searched_ids),['Name',selected_role]].sort_values(by=selected_role, ascending=False).head(10)"
   ],
   "metadata": {
    "collapsed": false,
    "pycharm": {
     "name": "#%%\n"
    }
   }
  },
  {
   "cell_type": "code",
   "execution_count": 23,
   "outputs": [],
   "source": [
    "#scores.to_csv('data/scores_13092022.csv', index=False)"
   ],
   "metadata": {
    "collapsed": false,
    "pycharm": {
     "name": "#%%\n"
    }
   }
  },
  {
   "cell_type": "markdown",
   "source": [
    "***"
   ],
   "metadata": {
    "collapsed": false,
    "pycharm": {
     "name": "#%% md\n"
    }
   }
  },
  {
   "cell_type": "code",
   "execution_count": 24,
   "outputs": [],
   "source": [
    "import numpy as np"
   ],
   "metadata": {
    "collapsed": false,
    "pycharm": {
     "name": "#%%\n"
    }
   }
  },
  {
   "cell_type": "code",
   "execution_count": 25,
   "outputs": [],
   "source": [
    "managers = pd.read_csv('data/fm22managers.csv')\n",
    "managers.columns = [x.strip() for x in managers.columns]\n",
    "managers = managers.applymap(lambda x: x.strip() if isinstance(x, str) else x)\n",
    "managers = managers.applymap(lambda x: np.nan if x=='' else x)\n",
    "managers = managers.dropna(subset=['Club'])\n",
    "managers = managers.drop_duplicates(subset=['Club'], keep='first')"
   ],
   "metadata": {
    "collapsed": false,
    "pycharm": {
     "name": "#%%\n"
    }
   }
  },
  {
   "cell_type": "code",
   "execution_count": 26,
   "outputs": [],
   "source": [
    "miguel_crespo = fm[fm['Name'] == 'Miguel Crespo']"
   ],
   "metadata": {
    "collapsed": false,
    "pycharm": {
     "name": "#%%\n"
    }
   }
  },
  {
   "cell_type": "code",
   "execution_count": 27,
   "outputs": [
    {
     "data": {
      "text/plain": "            UID           Name  Nat               Based        Club  \\\n34748  84122771  Miguel Crespo  POR  Turkey (Süper Lig)  Fenerbahçe   \n\n        Position Preferred Foot   Right Foot   Left Foot  Height  ... Bal_20  \\\n34748  DM, M (C)          Right  Very Strong  Reasonable  185 cm  ...     13   \n\n       Kic_20 Sta_20 Agi_20 Wor_20  Bra_20 Cmd_20 Fin_20 1v1_20  TRO_20  \n34748       1     13     12     12      10      2      8      2       1  \n\n[1 rows x 161 columns]",
      "text/html": "<div>\n<style scoped>\n    .dataframe tbody tr th:only-of-type {\n        vertical-align: middle;\n    }\n\n    .dataframe tbody tr th {\n        vertical-align: top;\n    }\n\n    .dataframe thead th {\n        text-align: right;\n    }\n</style>\n<table border=\"1\" class=\"dataframe\">\n  <thead>\n    <tr style=\"text-align: right;\">\n      <th></th>\n      <th>UID</th>\n      <th>Name</th>\n      <th>Nat</th>\n      <th>Based</th>\n      <th>Club</th>\n      <th>Position</th>\n      <th>Preferred Foot</th>\n      <th>Right Foot</th>\n      <th>Left Foot</th>\n      <th>Height</th>\n      <th>...</th>\n      <th>Bal_20</th>\n      <th>Kic_20</th>\n      <th>Sta_20</th>\n      <th>Agi_20</th>\n      <th>Wor_20</th>\n      <th>Bra_20</th>\n      <th>Cmd_20</th>\n      <th>Fin_20</th>\n      <th>1v1_20</th>\n      <th>TRO_20</th>\n    </tr>\n  </thead>\n  <tbody>\n    <tr>\n      <th>34748</th>\n      <td>84122771</td>\n      <td>Miguel Crespo</td>\n      <td>POR</td>\n      <td>Turkey (Süper Lig)</td>\n      <td>Fenerbahçe</td>\n      <td>DM, M (C)</td>\n      <td>Right</td>\n      <td>Very Strong</td>\n      <td>Reasonable</td>\n      <td>185 cm</td>\n      <td>...</td>\n      <td>13</td>\n      <td>1</td>\n      <td>13</td>\n      <td>12</td>\n      <td>12</td>\n      <td>10</td>\n      <td>2</td>\n      <td>8</td>\n      <td>2</td>\n      <td>1</td>\n    </tr>\n  </tbody>\n</table>\n<p>1 rows × 161 columns</p>\n</div>"
     },
     "execution_count": 27,
     "metadata": {},
     "output_type": "execute_result"
    }
   ],
   "source": [
    "miguel_crespo"
   ],
   "metadata": {
    "collapsed": false,
    "pycharm": {
     "name": "#%%\n"
    }
   }
  },
  {
   "cell_type": "code",
   "execution_count": 28,
   "outputs": [
    {
     "data": {
      "text/plain": "            UID           Name  Sweeper Keeper (Defend)  \\\n34748  84122771  Miguel Crespo                37.806093   \n\n       Sweeper Keeper (Support)  Sweeper Keeper (Attack)  Goalkeeper (Defend)  \\\n34748                 38.206481                37.063886            29.734976   \n\n       Ball Playing Defender (Defender)  Ball Playing Defender (Stopper)  \\\n34748                         65.896695                        67.871172   \n\n       Ball Playing Defender (Cover)  No-Nonsense Centre-Back (Defend)  ...  \\\n34748                      67.173959                         59.976712  ...   \n\n       Target Forward (Attack)  Pressing Forward (Defend)  \\\n34748                64.568067                  70.895761   \n\n       Pressing Forward (Support)  Pressing Forward (Attack)  \\\n34748                   71.514808                  69.992754   \n\n       Deep Lying Forward (Support)  Deep Lying Forward (Attack)  \\\n34748                     70.376955                    70.628946   \n\n       Poacher (Attack)  Advanced Forward (Attack)  Trequartista (Attack)  \\\n34748         64.622923                  70.928646              64.574433   \n\n       False Nine (Support)  \n34748             67.023361  \n\n[1 rows x 87 columns]",
      "text/html": "<div>\n<style scoped>\n    .dataframe tbody tr th:only-of-type {\n        vertical-align: middle;\n    }\n\n    .dataframe tbody tr th {\n        vertical-align: top;\n    }\n\n    .dataframe thead th {\n        text-align: right;\n    }\n</style>\n<table border=\"1\" class=\"dataframe\">\n  <thead>\n    <tr style=\"text-align: right;\">\n      <th></th>\n      <th>UID</th>\n      <th>Name</th>\n      <th>Sweeper Keeper (Defend)</th>\n      <th>Sweeper Keeper (Support)</th>\n      <th>Sweeper Keeper (Attack)</th>\n      <th>Goalkeeper (Defend)</th>\n      <th>Ball Playing Defender (Defender)</th>\n      <th>Ball Playing Defender (Stopper)</th>\n      <th>Ball Playing Defender (Cover)</th>\n      <th>No-Nonsense Centre-Back (Defend)</th>\n      <th>...</th>\n      <th>Target Forward (Attack)</th>\n      <th>Pressing Forward (Defend)</th>\n      <th>Pressing Forward (Support)</th>\n      <th>Pressing Forward (Attack)</th>\n      <th>Deep Lying Forward (Support)</th>\n      <th>Deep Lying Forward (Attack)</th>\n      <th>Poacher (Attack)</th>\n      <th>Advanced Forward (Attack)</th>\n      <th>Trequartista (Attack)</th>\n      <th>False Nine (Support)</th>\n    </tr>\n  </thead>\n  <tbody>\n    <tr>\n      <th>34748</th>\n      <td>84122771</td>\n      <td>Miguel Crespo</td>\n      <td>37.806093</td>\n      <td>38.206481</td>\n      <td>37.063886</td>\n      <td>29.734976</td>\n      <td>65.896695</td>\n      <td>67.871172</td>\n      <td>67.173959</td>\n      <td>59.976712</td>\n      <td>...</td>\n      <td>64.568067</td>\n      <td>70.895761</td>\n      <td>71.514808</td>\n      <td>69.992754</td>\n      <td>70.376955</td>\n      <td>70.628946</td>\n      <td>64.622923</td>\n      <td>70.928646</td>\n      <td>64.574433</td>\n      <td>67.023361</td>\n    </tr>\n  </tbody>\n</table>\n<p>1 rows × 87 columns</p>\n</div>"
     },
     "execution_count": 28,
     "metadata": {},
     "output_type": "execute_result"
    }
   ],
   "source": [
    "scores[scores['UID'] == miguel_crespo.UID.values[0]]"
   ],
   "metadata": {
    "collapsed": false,
    "pycharm": {
     "name": "#%%\n"
    }
   }
  },
  {
   "cell_type": "code",
   "execution_count": 29,
   "outputs": [
    {
     "data": {
      "text/plain": "          UID           Name  Nat  Age        Club  Youth Marking Style  \\\n4791  8480793  İsmail Kartal  TUR   60  Fenerbahçe     10         Mixed   \n\n     Preferred Attacking Formation Preferred Defensive Formation  \\\n4791                         4-4-2                       4-4-1-1   \n\n     Second Preferred Formation Pressing Style Playing Style Tactical Style  \\\n4791                    4-4-1-1       Balanced      Standard   Park the Bus   \n\n     Playing Mentality Preferred Formation  \n4791          Cautious             4-4-1-1  ",
      "text/html": "<div>\n<style scoped>\n    .dataframe tbody tr th:only-of-type {\n        vertical-align: middle;\n    }\n\n    .dataframe tbody tr th {\n        vertical-align: top;\n    }\n\n    .dataframe thead th {\n        text-align: right;\n    }\n</style>\n<table border=\"1\" class=\"dataframe\">\n  <thead>\n    <tr style=\"text-align: right;\">\n      <th></th>\n      <th>UID</th>\n      <th>Name</th>\n      <th>Nat</th>\n      <th>Age</th>\n      <th>Club</th>\n      <th>Youth</th>\n      <th>Marking Style</th>\n      <th>Preferred Attacking Formation</th>\n      <th>Preferred Defensive Formation</th>\n      <th>Second Preferred Formation</th>\n      <th>Pressing Style</th>\n      <th>Playing Style</th>\n      <th>Tactical Style</th>\n      <th>Playing Mentality</th>\n      <th>Preferred Formation</th>\n    </tr>\n  </thead>\n  <tbody>\n    <tr>\n      <th>4791</th>\n      <td>8480793</td>\n      <td>İsmail Kartal</td>\n      <td>TUR</td>\n      <td>60</td>\n      <td>Fenerbahçe</td>\n      <td>10</td>\n      <td>Mixed</td>\n      <td>4-4-2</td>\n      <td>4-4-1-1</td>\n      <td>4-4-1-1</td>\n      <td>Balanced</td>\n      <td>Standard</td>\n      <td>Park the Bus</td>\n      <td>Cautious</td>\n      <td>4-4-1-1</td>\n    </tr>\n  </tbody>\n</table>\n</div>"
     },
     "execution_count": 29,
     "metadata": {},
     "output_type": "execute_result"
    }
   ],
   "source": [
    "managers[managers['Club'] == miguel_crespo.Club.values[0]]"
   ],
   "metadata": {
    "collapsed": false,
    "pycharm": {
     "name": "#%%\n"
    }
   }
  }
 ],
 "metadata": {
  "kernelspec": {
   "display_name": "Python 3",
   "language": "python",
   "name": "python3"
  },
  "language_info": {
   "codemirror_mode": {
    "name": "ipython",
    "version": 2
   },
   "file_extension": ".py",
   "mimetype": "text/x-python",
   "name": "python",
   "nbconvert_exporter": "python",
   "pygments_lexer": "ipython2",
   "version": "2.7.6"
  }
 },
 "nbformat": 4,
 "nbformat_minor": 0
}